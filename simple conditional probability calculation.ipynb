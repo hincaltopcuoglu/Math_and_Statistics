{
 "cells": [
  {
   "cell_type": "code",
   "execution_count": 1,
   "metadata": {},
   "outputs": [],
   "source": [
    "import math\n",
    "import numpy as np"
   ]
  },
  {
   "cell_type": "markdown",
   "metadata": {},
   "source": [
    "### Problem:\n",
    "### Assume that you have a lottery card in your hand with six numbers. Total numbers of lottery is 30.\n",
    "### The draw started and at the first drawn number is in your card !\n",
    "### So now what is your winning chance of lottery ?"
   ]
  },
  {
   "cell_type": "markdown",
   "metadata": {},
   "source": [
    "### We know that from the conditional probability that if we are interested in occuring an event named A(here is the chance of winning lotter) regard to another event B(here is the first drawn number is in your card), the probability of winning lottery due to first drawning is in your card is : P(A|B) = P(A∩B)/P(B)"
   ]
  },
  {
   "cell_type": "markdown",
   "metadata": {},
   "source": [
    "### Now lets calculate the Probability B : What is the probability of first drawn number is in your card ?"
   ]
  },
  {
   "cell_type": "markdown",
   "metadata": {},
   "source": [
    "### probability of B then should be calculated from combination calculus of (29,5) / (30 ,6)\n",
    "### Because at first we have 30 card points and we also have 6 card point in our card.So the combination of it should be calculated to find all event points.\n",
    "### Then for finding the probability of one number is in our card, we should calculate the combination of all left ones using combination of (29,5)"
   ]
  },
  {
   "cell_type": "code",
   "execution_count": 2,
   "metadata": {},
   "outputs": [],
   "source": [
    "def comb(num1,num2):\n",
    "    res = math.factorial(num1) / ((math.factorial(num2))*(math.factorial(num1-num2)))\n",
    "    \n",
    "    return res"
   ]
  },
  {
   "cell_type": "code",
   "execution_count": 3,
   "metadata": {},
   "outputs": [
    {
     "data": {
      "text/plain": [
       "593775.0"
      ]
     },
     "execution_count": 3,
     "metadata": {},
     "output_type": "execute_result"
    }
   ],
   "source": [
    "comb_whole = comb(30,6)\n",
    "comb_whole"
   ]
  },
  {
   "cell_type": "code",
   "execution_count": 4,
   "metadata": {},
   "outputs": [
    {
     "data": {
      "text/plain": [
       "118755.0"
      ]
     },
     "execution_count": 4,
     "metadata": {},
     "output_type": "execute_result"
    }
   ],
   "source": [
    "comb_one_drawn = comb(29,5)\n",
    "comb_one_drawn"
   ]
  },
  {
   "cell_type": "markdown",
   "metadata": {},
   "source": [
    "### now we can define the probability of B using P(B) = comb_one_drawn / comb_whole"
   ]
  },
  {
   "cell_type": "code",
   "execution_count": 5,
   "metadata": {},
   "outputs": [
    {
     "data": {
      "text/plain": [
       "0.2"
      ]
     },
     "execution_count": 5,
     "metadata": {},
     "output_type": "execute_result"
    }
   ],
   "source": [
    "prob_b = comb_one_drawn / comb_whole\n",
    "\n",
    "prob_b"
   ]
  },
  {
   "cell_type": "markdown",
   "metadata": {},
   "source": [
    "### lets calculate P(A∩B) which is a single point so it can be calculated as 1 / (comb_whole)"
   ]
  },
  {
   "cell_type": "code",
   "execution_count": 6,
   "metadata": {},
   "outputs": [
    {
     "data": {
      "text/plain": [
       "1.684139615174098e-06"
      ]
     },
     "execution_count": 6,
     "metadata": {},
     "output_type": "execute_result"
    }
   ],
   "source": [
    "prob_a_intrsc_b = 1 / comb_whole\n",
    "\n",
    "prob_a_intrsc_b"
   ]
  },
  {
   "cell_type": "markdown",
   "metadata": {},
   "source": [
    "### it means that what is the probility of first drawn number is in our card in whole event space.\n",
    "### attention here : this calculation also means that what is the probability of event A when not knowing probability of B. It is initial probability with no other event probability knowledge."
   ]
  },
  {
   "cell_type": "markdown",
   "metadata": {},
   "source": [
    "### Now We can calculate conditional probability P(A|B) = P(A∩B)/P(B)"
   ]
  },
  {
   "cell_type": "code",
   "execution_count": 7,
   "metadata": {},
   "outputs": [
    {
     "data": {
      "text/plain": [
       "8.42069807587049e-06"
      ]
     },
     "execution_count": 7,
     "metadata": {},
     "output_type": "execute_result"
    }
   ],
   "source": [
    "cond_prob_a_b = prob_a_intrsc_b / prob_b\n",
    "\n",
    "cond_prob_a_b"
   ]
  },
  {
   "cell_type": "markdown",
   "metadata": {},
   "source": [
    "### here is the comment : when calculating probability regard to probability of occured event B, it is 5 times bigger than initial one.!"
   ]
  },
  {
   "cell_type": "markdown",
   "metadata": {},
   "source": [
    "### Thanks\n",
    "### Hincal Topcuoglu\n",
    "### Problem Statement = DeGroot - Schervish / Probability and Statistics"
   ]
  }
 ],
 "metadata": {
  "kernelspec": {
   "display_name": "Python 3",
   "language": "python",
   "name": "python3"
  },
  "language_info": {
   "codemirror_mode": {
    "name": "ipython",
    "version": 3
   },
   "file_extension": ".py",
   "mimetype": "text/x-python",
   "name": "python",
   "nbconvert_exporter": "python",
   "pygments_lexer": "ipython3",
   "version": "3.7.3"
  }
 },
 "nbformat": 4,
 "nbformat_minor": 2
}
