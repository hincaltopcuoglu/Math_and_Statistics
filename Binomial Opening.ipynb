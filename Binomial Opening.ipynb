{
 "cells": [
  {
   "cell_type": "code",
   "execution_count": 1,
   "metadata": {},
   "outputs": [],
   "source": [
    "import math\n",
    "import numpy as np"
   ]
  },
  {
   "cell_type": "code",
   "execution_count": 2,
   "metadata": {},
   "outputs": [],
   "source": [
    "def binomial_op(x,y,n):\n",
    "    op_list = []\n",
    "    for i in range(n+1):\n",
    "        op_list.append((math.factorial(n) / (math.factorial(i)*math.factorial(n-i))) * (x**i) * (y**(n-i)))\n",
    "\n",
    "    return op_list"
   ]
  },
  {
   "cell_type": "code",
   "execution_count": 3,
   "metadata": {},
   "outputs": [
    {
     "name": "stdout",
     "output_type": "stream",
     "text": [
      "[1.0]\n",
      "[1.0, 1.0]\n",
      "[1.0, 2.0, 1.0]\n",
      "[1.0, 3.0, 3.0, 1.0]\n",
      "[1.0, 4.0, 6.0, 4.0, 1.0]\n",
      "[1.0, 5.0, 10.0, 10.0, 5.0, 1.0]\n",
      "[1.0, 6.0, 15.0, 20.0, 15.0, 6.0, 1.0]\n",
      "[1.0, 7.0, 21.0, 35.0, 35.0, 21.0, 7.0, 1.0]\n",
      "[1.0, 8.0, 28.0, 56.0, 70.0, 56.0, 28.0, 8.0, 1.0]\n",
      "[1.0, 9.0, 36.0, 84.0, 126.0, 126.0, 84.0, 36.0, 9.0, 1.0]\n"
     ]
    }
   ],
   "source": [
    "for i in range(0,10):\n",
    "    print(binomial_op(1,1,i))"
   ]
  }
 ],
 "metadata": {
  "kernelspec": {
   "display_name": "Python 3",
   "language": "python",
   "name": "python3"
  },
  "language_info": {
   "codemirror_mode": {
    "name": "ipython",
    "version": 3
   },
   "file_extension": ".py",
   "mimetype": "text/x-python",
   "name": "python",
   "nbconvert_exporter": "python",
   "pygments_lexer": "ipython3",
   "version": "3.7.3"
  }
 },
 "nbformat": 4,
 "nbformat_minor": 2
}
